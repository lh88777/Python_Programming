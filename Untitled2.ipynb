{
 "cells": [
  {
   "cell_type": "markdown",
   "metadata": {},
   "source": [
    "#### Lists \n",
    "a = [1, 4, 67, 99, 33, 55]\n",
    "for i in a: \n",
    "    print (i)\n",
    "    \n",
    "print()\n",
    "print(a[2:4])\n",
    "print(a[-2:])\n",
    "a.append(767)\n",
    "print(a)\n",
    "a.extend([356, 35, 33])\n",
    "print(a)\n",
    "a.sort()\n",
    "print(a)\n",
    "a.sort(reverse=True)\n",
    "print(a)\n",
    "print(len(a))"
   ]
  },
  {
   "cell_type": "code",
   "execution_count": 11,
   "metadata": {},
   "outputs": [
    {
     "name": "stdout",
     "output_type": "stream",
     "text": [
      "[1, 2, 3, 4, [56, 7]]\n",
      "4\n",
      "[56, 7]\n",
      "7\n"
     ]
    }
   ],
   "source": [
    "x = [1,2,3,4]\n",
    "x.append([56,7])\n",
    "print(x)\n",
    "print(x[3])\n",
    "print(x[4])\n",
    "print(x[4] [1])"
   ]
  },
  {
   "cell_type": "code",
   "execution_count": 14,
   "metadata": {},
   "outputs": [
    {
     "name": "stdout",
     "output_type": "stream",
     "text": [
      "(1, 2, 3)\n",
      "1\n",
      "1\n",
      "2\n",
      "3\n",
      "56\n",
      "19\n"
     ]
    }
   ],
   "source": [
    "#Tuple\n",
    "k=(1,2,3)\n",
    "print(k)\n",
    "print(k[0])\n",
    "#k[6] - not possible to change tuple as well\n",
    "for i in k: \n",
    "    print(i)\n",
    "#k.append(5) not possible\n",
    "(age, size) = \"56,190\".split(',')\n",
    "print(age)\n",
    "print(size)"
   ]
  },
  {
   "cell_type": "code",
   "execution_count": 15,
   "metadata": {},
   "outputs": [
    {
     "name": "stdout",
     "output_type": "stream",
     "text": [
      "(1, 5, 3, 2)\n",
      "(1, 5, 4, 5, 6, 7, 8, 4)\n"
     ]
    }
   ],
   "source": [
    "#Sets\n",
    "m=(1,5,3,2)\n",
    "n=(1,5,4,5,6,7,8,4)\n",
    "print(m)\n",
    "print(n)"
   ]
  },
  {
   "cell_type": "code",
   "execution_count": 21,
   "metadata": {},
   "outputs": [
    {
     "name": "stdout",
     "output_type": "stream",
     "text": [
      "Hello World\n",
      "Hello\n",
      "\n",
      "Hello\n",
      "World\n",
      "Python\n"
     ]
    }
   ],
   "source": [
    "d = {'k1':'Hello', 'k2': \"World\"}\n",
    "print(d['k1']+\" \"+d['k2'])\n",
    "print(d.get('k1'))\n",
    "d['k3'] = 'Python'\n",
    "print()\n",
    "for i in d.keys():\n",
    "    print(d.get(i))"
   ]
  },
  {
   "cell_type": "code",
   "execution_count": 22,
   "metadata": {},
   "outputs": [
    {
     "name": "stdout",
     "output_type": "stream",
     "text": [
      "abc kdkdf\n",
      "\n",
      "lkÃ¶jakd\n",
      "\n"
     ]
    }
   ],
   "source": [
    "f = 't.txt'\n",
    "with open(f, 'r') as infile: \n",
    "    line = infile.readline()\n",
    "    while line: \n",
    "        print(line)\n",
    "        line = infile.readline()"
   ]
  }
 ],
 "metadata": {
  "kernelspec": {
   "display_name": "Python 3",
   "language": "python",
   "name": "python3"
  },
  "language_info": {
   "codemirror_mode": {
    "name": "ipython",
    "version": 3
   },
   "file_extension": ".py",
   "mimetype": "text/x-python",
   "name": "python",
   "nbconvert_exporter": "python",
   "pygments_lexer": "ipython3",
   "version": "3.7.4"
  }
 },
 "nbformat": 4,
 "nbformat_minor": 2
}
