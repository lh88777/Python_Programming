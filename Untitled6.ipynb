{
 "cells": [
  {
   "cell_type": "code",
   "execution_count": 7,
   "metadata": {},
   "outputs": [],
   "source": [
    "f = 'IDay.txt'\n",
    "with open (f, 'w') as outfile: \n",
    "    outfile.write('Polands Independence Day commemorating the countrys regained independence on 11th November 1918 after 123 years of partitions and rule by Russia, Prussia and Austria is one of the most important national holidays in Poland. Most Poles spend it in the company of friends and family, enjoying their day off.\\nWhile 11th November received the status of a state holiday as late as in 1937, it was celebrated with exceptional pomp during the Second Polish Republic. Military parades filed through the streets of Polish cities and were received by Marshal Jozef Pilsudski, who is acknowledged as the father of independent Poland.')\n"
   ]
  },
  {
   "cell_type": "code",
   "execution_count": null,
   "metadata": {},
   "outputs": [],
   "source": [
    ">>> string = \"Special $#! characters   spaces 888323\"\n",
    ">>> ''.join(e for e in string if e.isalnum())\n",
    "'Specialcharactersspaces888323'"
   ]
  },
  {
   "cell_type": "code",
   "execution_count": 8,
   "metadata": {},
   "outputs": [
    {
     "data": {
      "text/plain": [
       "'Specialcharacters448'"
      ]
     },
     "execution_count": 8,
     "metadata": {},
     "output_type": "execute_result"
    }
   ],
   "source": [
    "string = \"Special %%&, characters448!\"\n",
    "''.join(e for e in string if e.isalnum())"
   ]
  },
  {
   "cell_type": "code",
   "execution_count": 14,
   "metadata": {},
   "outputs": [
    {
     "data": {
      "text/plain": [
       "'IDaytxt'"
      ]
     },
     "execution_count": 14,
     "metadata": {},
     "output_type": "execute_result"
    }
   ],
   "source": [
    "''.join(e for e in f if e.isalnum())"
   ]
  },
  {
   "cell_type": "code",
   "execution_count": 1,
   "metadata": {},
   "outputs": [
    {
     "data": {
      "text/plain": [
       "'IDay123xP4'"
      ]
     },
     "execution_count": 1,
     "metadata": {},
     "output_type": "execute_result"
    }
   ],
   "source": [
    "g = 'IDay 123$%xP4%&'\n",
    "''.join(e for e in g if e.isalnum())\n",
    "\n"
   ]
  },
  {
   "cell_type": "code",
   "execution_count": null,
   "metadata": {},
   "outputs": [],
   "source": [
    "from glob import glob\n",
    "pattern = \"D:\\\\report\\\\shakeall\\\\*.txt\"\n",
    "filelist = glob(pattern)\n",
    "def countwords(fp):\n",
    "    with open(fp) as fh:\n",
    "        return len(fh.read().split())\n",
    "print \"There are\" ,sum(map(countwords, filelist)), \"words in the files. \" \"From directory\",pattern\n",
    "import os\n",
    "uniquewords = set([])\n",
    "for root, dirs, files in os.walk(\"D:\\\\report\\\\shakeall\"):\n",
    "    for name in files:\n",
    "        [uniquewords.add(x) for x in open(os.path.join(root,name)).read().split()]\n",
    "print \"There are\" ,len(uniquewords), \"unique words in the files.\" \"From directory\", pattern"
   ]
  },
  {
   "cell_type": "code",
   "execution_count": 1,
   "metadata": {
    "pycharm": {
     "is_executing": false
    }
   },
   "outputs": [
    {
     "name": "stdout",
     "text": [
      "{'brand': 'Ford', 'model': 'Mustang', 'year': 1964}\n"
     ],
     "output_type": "stream"
    }
   ],
   "source": [
    "def countwords(f):\n",
    "    with open(f) as fh:\n",
    "        return len(fh.read().split())"
   ]
  },
  {
   "cell_type": "code",
   "execution_count": 2,
   "outputs": [
    {
     "name": "stdout",
     "text": [
      "{'brand': 'Ford', 'model': 'Mustang', 'year': 1964}\n"
     ],
     "output_type": "stream"
    }
   ],
   "source": [
    "thisdict = {\n",
    "  \"brand\": \"Ford\",\n",
    "  \"model\": \"Mustang\",\n",
    "  \"year\": 1964\n",
    "}\n",
    "print(thisdict)\n",
    "\n"
   ],
   "metadata": {
    "collapsed": false,
    "pycharm": {
     "name": "#%%\n",
     "is_executing": false
    }
   }
  },
  {
   "cell_type": "code",
   "execution_count": 4,
   "outputs": [
    {
     "name": "stdout",
     "text": [
      "Poland’s Independence Day commemorating the country’s regained independence on 11th November 1918 after 123 years of partitions and rule by Russia, Prussia and Austria is one of the most important national holidays in Poland. Most Poles spend it in the company of friends and family, enjoying their day off. Poland has been celebrating Independence Day since 1920. During and after the Second World War this was done clandestinely. In 1945, the National Independence Day was replaced by the Day of Rebirth of Poland on the anniversary of signing of PKWN Manifesto, celebrated on 22nd of July, which essentially introduced communist rule in the country. Independence Day was restored as a national holiday late as in 1989 after Poland’s political transformation. While 11th November received the status of a state holiday as late as in 1937, it was celebrated with exceptional pomp during the Second Polish Republic. Military parades filed through the streets of Polish cities and were received by Marshal Józef Piłsudski, who is acknowledged as the father of independent Poland. After 1989 National Independence Day has again become a day of festive celebrations. As was customary during the Second Polish Republic, the main ceremony takes place in the Piłsudski Square and is attended by the highest state officials. Military distinctions and promotions are awarded. For many Poles it is a day to reflect on their country’s history and an opportunity to express their patriotic sentiment. Those watching the military parades wave flags, put on red and white hats with \"Poland\" written on them and paint flags on children’s faces. Many Catholics attend mass celebrated for their homeland.\n"
     ],
     "output_type": "stream"
    }
   ],
   "source": [
    "f = 'IDay.txt'\n",
    "with open (f, 'r', encoding ='utf-8') as infile:\n",
    "    line = infile.readline()\n",
    "    while line:\n",
    "        print(line)\n",
    "         "
   ],
   "metadata": {
    "collapsed": false,
    "pycharm": {
     "name": "#%%\n",
     "is_executing": false
    }
   }
  },
  {
   "cell_type": "code",
   "execution_count": 5,
   "outputs": [
    {
     "traceback": [
      "\u001b[1;31m---------------------------------------------------------------------------\u001b[0m",
      "\u001b[1;31mAttributeError\u001b[0m                            Traceback (most recent call last)",
      "\u001b[1;32m<ipython-input-5-ee5084b68c70>\u001b[0m in \u001b[0;36m<module>\u001b[1;34m\u001b[0m\n\u001b[0;32m      1\u001b[0m \u001b[0mf\u001b[0m \u001b[1;33m=\u001b[0m \u001b[1;34m'IDay.txt'\u001b[0m\u001b[1;33m\u001b[0m\u001b[1;33m\u001b[0m\u001b[0m\n\u001b[0;32m      2\u001b[0m \u001b[1;32mwith\u001b[0m \u001b[0mopen\u001b[0m \u001b[1;33m(\u001b[0m\u001b[0mf\u001b[0m\u001b[1;33m,\u001b[0m \u001b[1;34m'r'\u001b[0m\u001b[1;33m,\u001b[0m \u001b[0mencoding\u001b[0m\u001b[1;33m=\u001b[0m \u001b[1;34m'utf-8'\u001b[0m\u001b[1;33m)\u001b[0m \u001b[1;32mas\u001b[0m \u001b[0mIDay\u001b[0m\u001b[1;33m:\u001b[0m\u001b[1;33m\u001b[0m\u001b[1;33m\u001b[0m\u001b[0m\n\u001b[1;32m----> 3\u001b[1;33m     \u001b[0mIDay\u001b[0m \u001b[1;33m=\u001b[0m \u001b[0mf\u001b[0m\u001b[1;33m.\u001b[0m\u001b[0mread\u001b[0m\u001b[1;33m(\u001b[0m\u001b[1;33m)\u001b[0m\u001b[1;33m\u001b[0m\u001b[1;33m\u001b[0m\u001b[0m\n\u001b[0m\u001b[0;32m      4\u001b[0m     \u001b[1;32mwhile\u001b[0m \u001b[0mf\u001b[0m\u001b[1;33m:\u001b[0m\u001b[1;33m\u001b[0m\u001b[1;33m\u001b[0m\u001b[0m\n\u001b[0;32m      5\u001b[0m         \u001b[0mIDay\u001b[0m \u001b[1;33m=\u001b[0m \u001b[0mf\u001b[0m\u001b[1;33m.\u001b[0m\u001b[0mread\u001b[0m\u001b[1;33m(\u001b[0m\u001b[1;33m)\u001b[0m\u001b[1;33m\u001b[0m\u001b[1;33m\u001b[0m\u001b[0m\n",
      "\u001b[1;31mAttributeError\u001b[0m: 'str' object has no attribute 'read'"
     ],
     "ename": "AttributeError",
     "evalue": "'str' object has no attribute 'read'",
     "output_type": "error"
    }
   ],
   "source": [
    "f = 'IDay.txt'\n",
    "with open (f, 'r', encoding= 'utf-8') as IDay:\n",
    "    IDay = f.read()\n",
    "    while f:\n",
    "        IDay = f.read()\n",
    "\n",
    "\n",
    "\n",
    "\n",
    "\n"
   ],
   "metadata": {
    "collapsed": false,
    "pycharm": {
     "name": "#%%\n",
     "is_executing": false
    }
   }
  }
 ],
 "metadata": {
  "kernelspec": {
   "display_name": "Python 3",
   "language": "python",
   "name": "python3"
  },
  "language_info": {
   "codemirror_mode": {
    "name": "ipython",
    "version": 3
   },
   "file_extension": ".py",
   "mimetype": "text/x-python",
   "name": "python",
   "nbconvert_exporter": "python",
   "pygments_lexer": "ipython3",
   "version": "3.7.4"
  },
  "pycharm": {
   "stem_cell": {
    "cell_type": "raw",
    "source": [],
    "metadata": {
     "collapsed": false
    }
   }
  }
 },
 "nbformat": 4,
 "nbformat_minor": 2
}