{
 "cells": [
  {
   "cell_type": "code",
   "execution_count": 8,
   "metadata": {},
   "outputs": [
    {
     "name": "stdout",
     "output_type": "stream",
     "text": [
      "prime number\n"
     ]
    }
   ],
   "source": [
    "def check_if_prime(a): \n",
    "    if a > 1: \n",
    "        for i in range (2,a): \n",
    "            if (a % i) == 0: \n",
    "                print(\"no prime number\")\n",
    "                break\n",
    "        else: \n",
    "                print(\"prime number\")\n",
    "                \n",
    "    else: \n",
    "        print(\"no prime number\")\n",
    "\n",
    "a = 23\n",
    "check_if_prime(a)"
   ]
  },
  {
   "cell_type": "code",
   "execution_count": null,
   "metadata": {},
   "outputs": [],
   "source": [
    "def check_if_prime(a): \n",
    "    if a > 1: \n",
    "        for i in range (2,a): \n",
    "            if (a % i) == 0: \n",
    "                print(\"no prime number\")\n",
    "                break\n",
    "        else: \n",
    "                print(\"prime number\")\n",
    "                \n",
    "    else: \n",
    "        print(\"no prime number\")\n",
    "\n",
    "a = 23\n",
    "check_if_prime(a)"
   ]
  }
 ],
 "metadata": {
  "kernelspec": {
   "display_name": "Python 3",
   "language": "python",
   "name": "python3"
  },
  "language_info": {
   "codemirror_mode": {
    "name": "ipython",
    "version": 3
   },
   "file_extension": ".py",
   "mimetype": "text/x-python",
   "name": "python",
   "nbconvert_exporter": "python",
   "pygments_lexer": "ipython3",
   "version": "3.7.4"
  }
 },
 "nbformat": 4,
 "nbformat_minor": 2
}
