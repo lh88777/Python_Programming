{
 "cells": [
  {
   "cell_type": "code",
   "execution_count": 1,
   "metadata": {},
   "outputs": [
    {
     "name": "stdout",
     "output_type": "stream",
     "text": [
      "Hello\n"
     ]
    }
   ],
   "source": [
    "print('Hello')"
   ]
  },
  {
   "cell_type": "code",
   "execution_count": 3,
   "metadata": {},
   "outputs": [
    {
     "name": "stdout",
     "output_type": "stream",
     "text": [
      " Datentr„ger in Laufwerk C: ist Windows\n",
      " Volumeseriennummer: C6F4-3FE3\n",
      "\n",
      " Verzeichnis von C:\\Users\\lholl\n",
      "\n",
      "30.10.2019  12:20    <DIR>          .\n",
      "30.10.2019  12:20    <DIR>          ..\n",
      "24.10.2019  13:27    <DIR>          .anaconda\n",
      "22.04.2016  13:58    <DIR>          .cisco\n",
      "30.10.2019  12:21    <DIR>          .conda\n",
      "30.10.2019  12:11                43 .condarc\n",
      "30.10.2019  12:20    <DIR>          .ipynb_checkpoints\n",
      "30.10.2019  12:20    <DIR>          .ipython\n",
      "29.10.2019  21:18    <DIR>          .PyCharmCE2019.2\n",
      "24.10.2019  13:50                37 .python_history\n",
      "20.06.2018  10:31    <DIR>          .spss\n",
      "12.10.2019  17:18    <DIR>          3D Objects\n",
      "24.10.2019  13:26    <DIR>          Anaconda3\n",
      "28.04.2017  15:03    <DIR>          Application Data\n",
      "12.10.2019  17:18    <DIR>          Contacts\n",
      "30.10.2019  08:26    <DIR>          Desktop\n",
      "29.10.2019  13:50    <DIR>          Documents\n",
      "30.10.2019  11:59    <DIR>          Downloads\n",
      "10.10.2019  12:38    <DIR>          Dropbox\n",
      "24.10.2019  19:26             1.768 emuser.properties\n",
      "12.10.2019  17:18    <DIR>          Favorites\n",
      "12.10.2019  17:18    <DIR>          Links\n",
      "12.10.2019  17:18    <DIR>          Music\n",
      "30.10.2019  11:44    <DIR>          OneDrive\n",
      "30.10.2019  11:44    <DIR>          OneDrive - bwedu\n",
      "12.10.2019  17:18    <DIR>          Pictures\n",
      "29.10.2019  21:35    <DIR>          PycharmProjects\n",
      "12.10.2019  17:18    <DIR>          Saved Games\n",
      "12.10.2019  17:18    <DIR>          Searches\n",
      "24.04.2016  20:03    <DIR>          Tracing\n",
      "30.10.2019  12:20                72 Untitled.ipynb\n",
      "12.10.2019  17:18    <DIR>          Videos\n",
      "02.12.2018  11:22    <DIR>          Zotero\n",
      "               4 Datei(en),          1.920 Bytes\n",
      "              29 Verzeichnis(se),  8.583.131.136 Bytes frei\n"
     ]
    }
   ],
   "source": [
    "!dir"
   ]
  },
  {
   "cell_type": "code",
   "execution_count": 11,
   "metadata": {},
   "outputs": [
    {
     "ename": "SyntaxError",
     "evalue": "invalid syntax (<ipython-input-11-7d178e03369e>, line 3)",
     "output_type": "error",
     "traceback": [
      "\u001b[1;36m  File \u001b[1;32m\"<ipython-input-11-7d178e03369e>\"\u001b[1;36m, line \u001b[1;32m3\u001b[0m\n\u001b[1;33m    else:\u001b[0m\n\u001b[1;37m       ^\u001b[0m\n\u001b[1;31mSyntaxError\u001b[0m\u001b[1;31m:\u001b[0m invalid syntax\n"
     ]
    }
   ],
   "source": [
    "if a >3:\n",
    "    print (\"a>3\")\n",
    "    else: \n",
    "        print (\"a<=3\")"
   ]
  },
  {
   "cell_type": "code",
   "execution_count": 12,
   "metadata": {},
   "outputs": [
    {
     "name": "stdout",
     "output_type": "stream",
     "text": [
      "a<3\n"
     ]
    }
   ],
   "source": [
    "a=3\n",
    "if a>3: \n",
    "    print(\"a>3\")\n",
    "else: \n",
    "    print(\"a<3\")"
   ]
  },
  {
   "cell_type": "code",
   "execution_count": 13,
   "metadata": {},
   "outputs": [
    {
     "name": "stdout",
     "output_type": "stream",
     "text": [
      "a==3\n"
     ]
    }
   ],
   "source": [
    "a=3\n",
    "if a>3: \n",
    "    print(\"a>3\")\n",
    "elif a==3: \n",
    "    print(\"a==3\")\n",
    "else: \n",
    "    print(\"a<3\")"
   ]
  },
  {
   "cell_type": "code",
   "execution_count": null,
   "metadata": {},
   "outputs": [],
   "source": []
  },
  {
   "cell_type": "code",
   "execution_count": 14,
   "metadata": {},
   "outputs": [
    {
     "name": "stdout",
     "output_type": "stream",
     "text": [
      "success\n"
     ]
    }
   ],
   "source": [
    "b=6 \n",
    "if a>3 or b<7:\n",
    "    print (\"success\")"
   ]
  },
  {
   "cell_type": "markdown",
   "metadata": {},
   "source": []
  },
  {
   "cell_type": "code",
   "execution_count": 17,
   "metadata": {},
   "outputs": [
    {
     "name": "stdout",
     "output_type": "stream",
     "text": [
      "0\n",
      "1\n"
     ]
    }
   ],
   "source": [
    "for i in range(5): \n",
    "    if i==2: \n",
    "        continue\n",
    "    if i==3:\n",
    "        break\n",
    "    print (i)"
   ]
  },
  {
   "cell_type": "code",
   "execution_count": 41,
   "metadata": {},
   "outputs": [
    {
     "name": "stdout",
     "output_type": "stream",
     "text": [
      "noteven\n"
     ]
    }
   ],
   "source": [
    "def check_if_even(a):\n",
    "    if a%2 ==0:\n",
    "        print(\"even\")\n",
    "    else: \n",
    "        print(\"noteven\")\n",
    "\n",
    "a=7\n",
    "check_if_even(a)\n",
    "\n",
    "\n"
   ]
  },
  {
   "cell_type": "code",
   "execution_count": 40,
   "metadata": {},
   "outputs": [
    {
     "name": "stdout",
     "output_type": "stream",
     "text": [
      "1\n"
     ]
    }
   ],
   "source": [
    "a = 5\n",
    "b = a % 2\n",
    "print(b)"
   ]
  }
 ],
 "metadata": {
  "kernelspec": {
   "display_name": "Python 3",
   "language": "python",
   "name": "python3"
  },
  "language_info": {
   "codemirror_mode": {
    "name": "ipython",
    "version": 3
   },
   "file_extension": ".py",
   "mimetype": "text/x-python",
   "name": "python",
   "nbconvert_exporter": "python",
   "pygments_lexer": "ipython3",
   "version": "3.7.4"
  }
 },
 "nbformat": 4,
 "nbformat_minor": 2
}
